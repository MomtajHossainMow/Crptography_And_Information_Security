{
 "cells": [
  {
   "cell_type": "code",
   "execution_count": 34,
   "metadata": {},
   "outputs": [],
   "source": [
    "#Encryption Function\n",
    "def encryption(plaintext, key):\n",
    "    text_len = len(plaintext)\n",
    "    text = plaintext.lower()\n",
    "    ciphertext = \"\"\n",
    "    for char in text:\n",
    "        order = ord(char)\n",
    "        if order >= 97 and order <= 122:\n",
    "            order = order - 97\n",
    "            order = (order + key) % 26\n",
    "            order = order + 97\n",
    "            new_char = chr(order)\n",
    "            ciphertext = ciphertext + new_char\n",
    "        else:\n",
    "            ciphertext = ciphertext + char\n",
    "    return ciphertext"
   ]
  },
  {
   "cell_type": "code",
   "execution_count": 35,
   "metadata": {},
   "outputs": [],
   "source": [
    "#Decryption Function\n",
    "def decryption(ciphertext, key):\n",
    "    text_len = len(ciphertext)\n",
    "    text = ciphertext.upper()\n",
    "    plaintext = \"\"\n",
    "    for char in text:\n",
    "        order = ord(char)\n",
    "        if order >= 65 and order <= 90:\n",
    "            order = order - 65\n",
    "            order = (order - key) % 26\n",
    "            order = order + 65\n",
    "            new_char = chr(order)\n",
    "            plaintext = plaintext + new_char\n",
    "        else:\n",
    "            plaintext = plaintext + char\n",
    "    return plaintext"
   ]
  },
  {
   "cell_type": "code",
   "execution_count": 36,
   "metadata": {},
   "outputs": [
    {
     "name": "stdout",
     "output_type": "stream",
     "text": [
      "Enter the plaintext: \n",
      "Enter the key: \n",
      "Given plaintext:  Cryptography & Information Security Lab\n",
      "Entered key :  22\n",
      "Ciphertext:  ynulpkcnwldu & ejbkniwpekj oayqnepu hwx\n",
      "Decrypted plaintext:  CRYPTOGRAPHY & INFORMATION SECURITY LAB\n"
     ]
    }
   ],
   "source": [
    "#Input Section\n",
    "print(\"Enter the plaintext: \")\n",
    "plaintext = input()\n",
    "print(\"Enter the key: \")\n",
    "key = int(input())\n",
    "\n",
    "#Function Calling\n",
    "ciphertext = encryption(plaintext, key)\n",
    "decrypted_text = decryption(ciphertext, key)\n",
    "\n",
    "#Output Section\n",
    "print(\"Given plaintext: \", plaintext)\n",
    "print(\"Entered key : \", key)\n",
    "print(\"Ciphertext: \", ciphertext)\n",
    "print(\"Decrypted plaintext: \", decrypted_text)"
   ]
  },
  {
   "cell_type": "code",
   "execution_count": 37,
   "metadata": {},
   "outputs": [
    {
     "name": "stdout",
     "output_type": "stream",
     "text": [
      "Z\n"
     ]
    }
   ],
   "source": [
    "char = chr(90)\n",
    "print(char)"
   ]
  }
 ],
 "metadata": {
  "kernelspec": {
   "display_name": "Python 3",
   "language": "python",
   "name": "python3"
  },
  "language_info": {
   "codemirror_mode": {
    "name": "ipython",
    "version": 3
   },
   "file_extension": ".py",
   "mimetype": "text/x-python",
   "name": "python",
   "nbconvert_exporter": "python",
   "pygments_lexer": "ipython3",
   "version": "3.9.0"
  },
  "orig_nbformat": 4
 },
 "nbformat": 4,
 "nbformat_minor": 2
}
