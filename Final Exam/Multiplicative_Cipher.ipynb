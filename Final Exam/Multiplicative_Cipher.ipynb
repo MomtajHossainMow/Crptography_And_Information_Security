{
 "cells": [
  {
   "cell_type": "code",
   "execution_count": 6,
   "metadata": {},
   "outputs": [],
   "source": [
    "#Encrption funtion\n",
    "def encryption(plaintext, key):\n",
    "    text = plaintext.lower()\n",
    "    text_len = len(text)\n",
    "    ciphertext = \"\"\n",
    "    for char in text:\n",
    "        order = ord(char)\n",
    "        #Range of lowercase letter is 97 to 122\n",
    "        if order>= 97 and order<=122:\n",
    "            order = order - 97\n",
    "            order = (order * key) % 26\n",
    "            order = order + 97\n",
    "            new_char = chr(order)\n",
    "            ciphertext = ciphertext + new_char\n",
    "        else:\n",
    "            ciphertext = ciphertext + char\n",
    "    return ciphertext\n",
    "\n"
   ]
  },
  {
   "cell_type": "code",
   "execution_count": 7,
   "metadata": {},
   "outputs": [],
   "source": [
    "#Encrption funtion\n",
    "def decryption(ciphertext, key):\n",
    "    text = ciphertext.upper()\n",
    "    text_len = len(text)\n",
    "    key_inv = pow(key, -1, 26)\n",
    "    plaintext = \"\"\n",
    "    for char in text:\n",
    "        order = ord(char)\n",
    "        #Range of uppercase letter is 65 to 90\n",
    "        if order>= 65 and order<=90:\n",
    "            order = order - 65\n",
    "            order = (order * key_inv) % 26\n",
    "            order = order + 65\n",
    "            new_char = chr(order)\n",
    "            plaintext = plaintext + new_char\n",
    "        else:\n",
    "            plaintext = plaintext + char\n",
    "    return plaintext"
   ]
  },
  {
   "cell_type": "code",
   "execution_count": 8,
   "metadata": {},
   "outputs": [
    {
     "name": "stdout",
     "output_type": "stream",
     "text": [
      "Enter the plaintext: \n",
      "Enter the key: \n",
      "Entered plaintext :  Cryptography And Information Security\n",
      "Entered key : \n",
      "Cipher text:  opmbduqpabxm anv enjupgadeun wcokpedm\n",
      "Decrypted plaintext:  CRYPTOGRAPHY AND INFORMATION SECURITY\n"
     ]
    }
   ],
   "source": [
    "#Input Section\n",
    "print(\"Enter the plaintext: \")\n",
    "plaintext = input()\n",
    "print(\"Enter the key: \")\n",
    "key = int(input())\n",
    "\n",
    "#Function calling\n",
    "ciphertext = encryption(plaintext, key)\n",
    "decrypted_text = decryption(ciphertext, key)\n",
    "\n",
    "#Output section\n",
    "print(\"Entered plaintext : \", plaintext)\n",
    "print(\"Entered key : \")\n",
    "print(\"Cipher text: \", ciphertext)\n",
    "print(\"Decrypted plaintext: \", decrypted_text)"
   ]
  }
 ],
 "metadata": {
  "kernelspec": {
   "display_name": "Python 3",
   "language": "python",
   "name": "python3"
  },
  "language_info": {
   "codemirror_mode": {
    "name": "ipython",
    "version": 3
   },
   "file_extension": ".py",
   "mimetype": "text/x-python",
   "name": "python",
   "nbconvert_exporter": "python",
   "pygments_lexer": "ipython3",
   "version": "3.9.0"
  },
  "orig_nbformat": 4
 },
 "nbformat": 4,
 "nbformat_minor": 2
}
